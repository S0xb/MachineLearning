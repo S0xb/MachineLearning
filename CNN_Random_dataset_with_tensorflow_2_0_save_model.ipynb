{
  "nbformat": 4,
  "nbformat_minor": 0,
  "metadata": {
    "colab": {
      "name": "CNN_Random_dataset_with_tensorflow_2.0_save_model.ipynb",
      "version": "0.3.2",
      "provenance": [],
      "collapsed_sections": [
        "eupEghtU4dii",
        "8lh2gv_-3zxa"
      ],
      "include_colab_link": true
    },
    "kernelspec": {
      "name": "python3",
      "display_name": "Python 3"
    },
    "accelerator": "GPU"
  },
  "cells": [
    {
      "cell_type": "markdown",
      "metadata": {
        "id": "view-in-github",
        "colab_type": "text"
      },
      "source": [
        "<a href=\"https://colab.research.google.com/github/S0xb/MachineLearning/blob/master/CNN_Random_dataset_with_tensorflow_2_0_save_model.ipynb\" target=\"_parent\"><img src=\"https://colab.research.google.com/assets/colab-badge.svg\" alt=\"Open In Colab\"/></a>"
      ]
    },
    {
      "cell_type": "code",
      "metadata": {
        "id": "n6tPjMe72DcV",
        "colab_type": "code",
        "colab": {}
      },
      "source": [
        "import tensorflow as tf\n",
        "import pandas as pd\n",
        "from tensorflow.python.client import device_lib\n",
        "import numpy as np\n",
        "import timeit\n",
        "import sys\n",
        "import matplotlib as mpl\n",
        "import matplotlib.pyplot as plt\n",
        "import sklearn\n",
        "import datetime as dt\n",
        "\n",
        "from tensorflow.keras import layers\n",
        "\n",
        "\n",
        "from tensorflow.python.framework import ops\n",
        "ops.reset_default_graph()\n"
      ],
      "execution_count": 0,
      "outputs": []
    },
    {
      "cell_type": "code",
      "metadata": {
        "id": "c0aJC4TN2MoI",
        "colab_type": "code",
        "outputId": "9964c3dd-4bcf-4389-dd3f-1a1d20378d0c",
        "colab": {
          "base_uri": "https://localhost:8080/",
          "height": 345
        }
      },
      "source": [
        "!pip install tf-nightly-gpu-2.0-preview"
      ],
      "execution_count": 0,
      "outputs": [
        {
          "output_type": "stream",
          "text": [
            "Requirement already satisfied: tf-nightly-gpu-2.0-preview in /usr/local/lib/python3.6/dist-packages (2.0.0.dev20190307)\n",
            "Requirement already satisfied: keras-applications>=1.0.6 in /usr/local/lib/python3.6/dist-packages (from tf-nightly-gpu-2.0-preview) (1.0.7)\n",
            "Requirement already satisfied: tensorflow-estimator-2.0-preview in /usr/local/lib/python3.6/dist-packages (from tf-nightly-gpu-2.0-preview) (1.14.0.dev2019030700)\n",
            "Requirement already satisfied: absl-py>=0.7.0 in /usr/local/lib/python3.6/dist-packages (from tf-nightly-gpu-2.0-preview) (0.7.0)\n",
            "Requirement already satisfied: keras-preprocessing>=1.0.5 in /usr/local/lib/python3.6/dist-packages (from tf-nightly-gpu-2.0-preview) (1.0.9)\n",
            "Requirement already satisfied: tb-nightly<1.15.0a0,>=1.14.0a0 in /usr/local/lib/python3.6/dist-packages (from tf-nightly-gpu-2.0-preview) (1.14.0a20190307)\n",
            "Requirement already satisfied: wheel>=0.26 in /usr/local/lib/python3.6/dist-packages (from tf-nightly-gpu-2.0-preview) (0.33.1)\n",
            "Requirement already satisfied: six>=1.10.0 in /usr/local/lib/python3.6/dist-packages (from tf-nightly-gpu-2.0-preview) (1.11.0)\n",
            "Requirement already satisfied: google-pasta>=0.1.2 in /usr/local/lib/python3.6/dist-packages (from tf-nightly-gpu-2.0-preview) (0.1.4)\n",
            "Requirement already satisfied: termcolor>=1.1.0 in /usr/local/lib/python3.6/dist-packages (from tf-nightly-gpu-2.0-preview) (1.1.0)\n",
            "Requirement already satisfied: numpy<2.0,>=1.14.5 in /usr/local/lib/python3.6/dist-packages (from tf-nightly-gpu-2.0-preview) (1.14.6)\n",
            "Requirement already satisfied: protobuf>=3.6.1 in /usr/local/lib/python3.6/dist-packages (from tf-nightly-gpu-2.0-preview) (3.6.1)\n",
            "Requirement already satisfied: grpcio>=1.8.6 in /usr/local/lib/python3.6/dist-packages (from tf-nightly-gpu-2.0-preview) (1.15.0)\n",
            "Requirement already satisfied: astor>=0.6.0 in /usr/local/lib/python3.6/dist-packages (from tf-nightly-gpu-2.0-preview) (0.7.1)\n",
            "Requirement already satisfied: gast>=0.2.0 in /usr/local/lib/python3.6/dist-packages (from tf-nightly-gpu-2.0-preview) (0.2.2)\n",
            "Requirement already satisfied: h5py in /usr/local/lib/python3.6/dist-packages (from keras-applications>=1.0.6->tf-nightly-gpu-2.0-preview) (2.8.0)\n",
            "Requirement already satisfied: werkzeug>=0.11.15 in /usr/local/lib/python3.6/dist-packages (from tb-nightly<1.15.0a0,>=1.14.0a0->tf-nightly-gpu-2.0-preview) (0.14.1)\n",
            "Requirement already satisfied: markdown>=2.6.8 in /usr/local/lib/python3.6/dist-packages (from tb-nightly<1.15.0a0,>=1.14.0a0->tf-nightly-gpu-2.0-preview) (3.0.1)\n",
            "Requirement already satisfied: setuptools in /usr/local/lib/python3.6/dist-packages (from protobuf>=3.6.1->tf-nightly-gpu-2.0-preview) (40.8.0)\n"
          ],
          "name": "stdout"
        }
      ]
    },
    {
      "cell_type": "code",
      "metadata": {
        "id": "oz2WHC1d2NGV",
        "colab_type": "code",
        "outputId": "967983b8-f48d-4618-e168-da0083baf4f0",
        "colab": {
          "base_uri": "https://localhost:8080/",
          "height": 35
        }
      },
      "source": [
        "device_name = tf.test.gpu_device_name()\n",
        "if device_name != '/device:GPU:0':\n",
        "  raise SystemError('GPU device not found')\n",
        "print('Device detected {}'.format(device_name))\n",
        "\n",
        "#print(\"List device :\",device_lib.list_local_devices())"
      ],
      "execution_count": 0,
      "outputs": [
        {
          "output_type": "stream",
          "text": [
            "Device detected /device:GPU:0\n"
          ],
          "name": "stdout"
        }
      ]
    },
    {
      "cell_type": "code",
      "metadata": {
        "id": "1KaGdwzD2Pab",
        "colab_type": "code",
        "outputId": "66bd1c5b-547f-4771-8807-81d22008d15d",
        "colab": {
          "base_uri": "https://localhost:8080/",
          "height": 138
        }
      },
      "source": [
        "print(\"python\", sys.version)\n",
        "for module in mpl, np, pd, sklearn, tf:\n",
        "    print(module.__name__, module.__version__)"
      ],
      "execution_count": 0,
      "outputs": [
        {
          "output_type": "stream",
          "text": [
            "python 3.6.7 (default, Oct 22 2018, 11:32:17) \n",
            "[GCC 8.2.0]\n",
            "matplotlib 3.0.3\n",
            "numpy 1.14.6\n",
            "pandas 0.22.0\n",
            "sklearn 0.20.3\n",
            "tensorflow 2.0.0-dev20190307\n"
          ],
          "name": "stdout"
        }
      ]
    },
    {
      "cell_type": "markdown",
      "metadata": {
        "id": "sCCPqP1mS05d",
        "colab_type": "text"
      },
      "source": [
        "## Dataset\n",
        "\n",
        "**tf.data.Dataset.from_tensor_slices **create a tensor from np.ndarray\n",
        "\n",
        "1.   *batch(100) * => make a tensor with shape of 100 items\n",
        "2.  *shuffle(4100)* => create a shuffle dataset at each  call  shuffle create a new random dataset\n",
        "\n"
      ]
    },
    {
      "cell_type": "code",
      "metadata": {
        "id": "tszlkqQOtKvn",
        "colab_type": "code",
        "outputId": "48363693-6639-4fe9-9fd0-372cb4cfe57b",
        "colab": {
          "base_uri": "https://localhost:8080/",
          "height": 242
        }
      },
      "source": [
        "# Random data  \n",
        "\n",
        "(x_train, y_train) = (10*np.random.random((82332, 16, 1, 1)), np.random.randint(10,size = (82332, 1)) )\n",
        "(x_test, y_test) =   (10*np.random.random((10000, 16, 1, 1)), np.random.randint(10,size = (10000, 1)) )\n",
        "\n",
        "print(y_train)\n",
        "print(y_train.shape)\n",
        "print(type(y_train))\n",
        "\n",
        "#Train dataset\n",
        "train_dataset = tf.data.Dataset.from_tensor_slices( (x_train[:41166],y_train[:41166]) ).batch(100).shuffle(41166)\n",
        "#train_dataset = train_dataset.map(lambda x, y:  ( tf.divide(tf.cast(x, tf.float32),255.0),  tf.divide(tf.cast(y, tf.float32),255.0) )   )\n",
        "train_dataset = train_dataset.map(lambda x, y:  ( tf.divide(tf.cast(x, tf.float32),255.0), tf.reshape(tf.one_hot(y, 10), (-1, 10)) ) )\n",
        "train_dataset = train_dataset.repeat()\n",
        "\n",
        "# Validation dataset\n",
        "valid_dataset = tf.data.Dataset.from_tensor_slices( (x_train[41166:],y_train[41166:]) ).batch(100).shuffle(20000)\n",
        "#valid_dataset = valid_dataset.map(lambda x, y:  ( tf.divide(tf.cast(x, tf.float32),255.0),  tf.divide(tf.cast(y, tf.float32),255.0) )   )\n",
        "valid_dataset = valid_dataset.map(lambda x, y:  ( tf.divide(tf.cast(x, tf.float32),255.0), tf.reshape(tf.one_hot(y, 10), (-1, 10)) ) )\n",
        "#valid_dataset = valid_dataset.repeat()\n",
        "\n",
        "# Test dataset\n",
        "test_dataset = tf.data.Dataset.from_tensor_slices( (x_test,y_test) ).batch(32)\n",
        "#test_dataset = test_dataset.map(lambda x, y:  ( tf.divide(tf.cast(x, tf.float32),255.0),  tf.divide(tf.cast(y, tf.float32),255.0) )   )\n",
        "test_dataset = test_dataset.map(lambda x, y:  ( tf.divide(tf.cast(x, tf.float32),255.0), tf.reshape(tf.one_hot(y, 10), (-1, 10)) ) )\n",
        "\n",
        "print(train_dataset)\n",
        "print(valid_dataset)\n",
        "print(test_dataset)\n",
        "\n",
        "print(x_train[41166:].shape)"
      ],
      "execution_count": 0,
      "outputs": [
        {
          "output_type": "stream",
          "text": [
            "[[7]\n",
            " [8]\n",
            " [3]\n",
            " ...\n",
            " [1]\n",
            " [6]\n",
            " [3]]\n",
            "(82332, 1)\n",
            "<class 'numpy.ndarray'>\n",
            "<RepeatDataset shapes: ((None, 16, 1, 1), (None, 10)), types: (tf.float32, tf.float32)>\n",
            "<MapDataset shapes: ((None, 16, 1, 1), (None, 10)), types: (tf.float32, tf.float32)>\n",
            "<MapDataset shapes: ((None, 16, 1, 1), (None, 10)), types: (tf.float32, tf.float32)>\n",
            "(41166, 16, 1, 1)\n"
          ],
          "name": "stdout"
        }
      ]
    },
    {
      "cell_type": "markdown",
      "metadata": {
        "id": "eupEghtU4dii",
        "colab_type": "text"
      },
      "source": [
        "## Dataset"
      ]
    },
    {
      "cell_type": "code",
      "metadata": {
        "id": "EVIkwM1yA554",
        "colab_type": "code",
        "colab": {}
      },
      "source": [
        "\n",
        "print(\"==============================================================\")\n",
        "print(\"                    Train dataset \\n\")\n",
        "print(\"==============================================================\")\n",
        "\n",
        "#train_dataset = train_dataset.repeat()\n",
        "count = 0\n",
        "\n",
        "print(\"First loop\")\n",
        "# Make the loop 1 time take(1), only 1 batch (32)\n",
        "for images,labels in train_dataset.take(3):\n",
        "    count+=1\n",
        "    print(\"Train image shape\",images.shape)\n",
        "    print(\"Train label image shape\",labels.shape)\n",
        "    print(\"First element of train label\",labels[0:1])\n",
        "    print(\"First element of train image\",tf.transpose(images[0::1]))\n",
        "\n",
        "print(\"\\n\\n==============================================================\")\n",
        "print(\"Second loop\", count)\n",
        "\n",
        "count = 0\n",
        "# Make the loop 1 time take(1), only 1 batch (32)\n",
        "for images,labels in train_dataset.take(3):\n",
        "    count+=1\n",
        "    print(\"Train image shape\",images.shape)\n",
        "    print(\"Train label image shape\",labels.shape)\n",
        "    print(\"First element of train label\",labels[0:1])\n",
        "    print(\"First element of train image\",tf.transpose(images[0::1]))\n",
        "\n",
        "print(\"\\n\\n==============================================================\")\n",
        "print(\"Third loop\",count)\n",
        "count=0\n",
        "\n",
        "# Make the loop 1 time take(1), only 1 batch (32)\n",
        "for images,labels in train_dataset.take(3):\n",
        "    count+=1\n",
        "    print(\"Train image shape\",images.shape)\n",
        "    print(\"Train label image shape\",labels.shape)\n",
        "    print(\"First element of train label\",labels[0:1])\n",
        "    print(\"First element of train image\",tf.transpose(images[0::1]))\n",
        "\n",
        "print(\"\\n\\n==============================================================\")\n",
        "print(\"Count=\",count)\n",
        "    \n",
        "print(\"\\n\\n==============================================================\")\n",
        "print(\"                    Test dataset \")\n",
        "print(\"==============================================================\\n\")\n",
        "\n",
        "# Make the loop 1 time take(1) only 1 batch (32)\n",
        "for test_images,test_labels in test_dataset.take(1):\n",
        "    print(type(test_labels))\n",
        "    print(\"Test image shape\",tf.transpose(test_images.shape))\n",
        "    print(\"Test label image shape\",test_labels.shape)\n",
        "    print(\"First element of test label\",test_labels[0:1])\n",
        "    #print(\"First element of test image\",test_images[:,:,0:1])"
      ],
      "execution_count": 0,
      "outputs": []
    },
    {
      "cell_type": "markdown",
      "metadata": {
        "id": "4PR2613r-gRN",
        "colab_type": "text"
      },
      "source": [
        "  ## Encoding\n",
        "  #### If your targets are one-hot encoded, use categorical_crossentropy.\n",
        "        Examples of one-hot encodings:\n",
        "            [1,0,0]\n",
        "            [0,1,0]\n",
        "            [0,0,1]\n",
        "   #### But if your targets are integers, use sparse_categorical_crossentropy.\n",
        "        Examples of integer encodings (for the sake of completion):\n",
        "            1\n",
        "            2\n",
        "            3"
      ]
    },
    {
      "cell_type": "markdown",
      "metadata": {
        "id": "uDPQ8OjW4GtI",
        "colab_type": "text"
      },
      "source": [
        "## Small CNN Model "
      ]
    },
    {
      "cell_type": "code",
      "metadata": {
        "colab_type": "code",
        "id": "-qj6y5SaL1XO",
        "colab": {}
      },
      "source": [
        "def create_cnn_simple_model():\n",
        "\n",
        "  #Create a tensor from a shape \n",
        "  inputs = tf.keras.layers.Input(shape=(16, 1, 1))\n",
        "\n",
        "  #Layer 1\n",
        "  x = tf.keras.layers.Conv2D(32, (1,1), padding='same', activation=tf.nn.relu)(inputs)\n",
        "  x = tf.keras.layers.MaxPooling2D((2,1), (1,1), padding='same')(x)\n",
        "  x = tf.keras.layers.Dropout(0.2)(x)\n",
        "  x = tf.keras.layers.Flatten()(x)\n",
        "\n",
        "  x = tf.keras.layers.Dense(128, activation=tf.nn.relu)(x)\n",
        "\n",
        "  x = tf.keras.layers.Dense(10)(x)\n",
        "  predictions = tf.keras.layers.Softmax()(x)\n",
        "\n",
        "  # Instantiate the model given inputs and outputs.\n",
        "  model = tf.keras.Model(inputs=inputs, outputs=predictions)\n",
        "\n",
        "  model.compile(optimizer=tf.keras.optimizers.Adam(),\n",
        "                loss='categorical_crossentropy',\n",
        "                #loss='sparse_categorical_crossentropy',\n",
        "                metrics=['accuracy'])\n",
        "    \n",
        "  return model"
      ],
      "execution_count": 0,
      "outputs": []
    },
    {
      "cell_type": "code",
      "metadata": {
        "id": "DAhWmjhl8Eus",
        "colab_type": "code",
        "colab": {}
      },
      "source": [
        "def debug(model):\n",
        "   #Debug Layer \n",
        "  for i,layer in enumerate(model.layers):\n",
        "     print(i,layer.name)"
      ],
      "execution_count": 0,
      "outputs": []
    },
    {
      "cell_type": "code",
      "metadata": {
        "id": "dE-gBiHfArR5",
        "colab_type": "code",
        "colab": {}
      },
      "source": [
        "def debug_weights(model):\n",
        "   #Debug Layer \n",
        "  for i,layer in enumerate(model.layers):\n",
        "     print(\"\\n\",i,layer.name,layer.get_weights())"
      ],
      "execution_count": 0,
      "outputs": []
    },
    {
      "cell_type": "code",
      "metadata": {
        "id": "Qz8j9oIv7zMq",
        "colab_type": "code",
        "outputId": "79989a65-0b03-4d1e-cd3c-fd4e84436e11",
        "colab": {
          "base_uri": "https://localhost:8080/",
          "height": 605
        }
      },
      "source": [
        "#Fit model\n",
        "model_cnn = create_cnn_simple_model()\n",
        "\n",
        "print(debug(model_cnn))\n",
        "\n",
        "print(model_cnn.summary())"
      ],
      "execution_count": 0,
      "outputs": [
        {
          "output_type": "stream",
          "text": [
            "0 input_7\n",
            "1 conv2d_10\n",
            "2 max_pooling2d_8\n",
            "3 dropout_4\n",
            "4 flatten_4\n",
            "5 dense_8\n",
            "6 dense_9\n",
            "7 softmax_4\n",
            "None\n",
            "Model: \"model_4\"\n",
            "_________________________________________________________________\n",
            "Layer (type)                 Output Shape              Param #   \n",
            "=================================================================\n",
            "input_7 (InputLayer)         [(None, 16, 1, 1)]        0         \n",
            "_________________________________________________________________\n",
            "conv2d_10 (Conv2D)           (None, 16, 1, 32)         64        \n",
            "_________________________________________________________________\n",
            "max_pooling2d_8 (MaxPooling2 (None, 16, 1, 32)         0         \n",
            "_________________________________________________________________\n",
            "dropout_4 (Dropout)          (None, 16, 1, 32)         0         \n",
            "_________________________________________________________________\n",
            "flatten_4 (Flatten)          (None, 512)               0         \n",
            "_________________________________________________________________\n",
            "dense_8 (Dense)              (None, 128)               65664     \n",
            "_________________________________________________________________\n",
            "dense_9 (Dense)              (None, 10)                1290      \n",
            "_________________________________________________________________\n",
            "softmax_4 (Softmax)          (None, 10)                0         \n",
            "=================================================================\n",
            "Total params: 67,018\n",
            "Trainable params: 67,018\n",
            "Non-trainable params: 0\n",
            "_________________________________________________________________\n",
            "None\n"
          ],
          "name": "stdout"
        }
      ]
    },
    {
      "cell_type": "code",
      "metadata": {
        "colab_type": "code",
        "id": "89T8-nRz8CNM",
        "cellView": "form",
        "colab": {}
      },
      "source": [
        "#@title\n",
        "class MyModel(tf.keras.Model):\n",
        "    def __init__(self,num_classes=10):\n",
        "    \n",
        "        super(MyModel, self).__init__(name='mymodel_cnn')\n",
        "        # 64 features map with kernel 5x5\n",
        "           \n",
        "        self.conv1 = tf.keras.layers.Conv2D(64, (5,1),\n",
        "                                         padding='same',\n",
        "                                         activation=tf.nn.relu,\n",
        "                                         kernel_initializer=tf.keras.initializers.he_uniform(),\n",
        "                                         kernel_regularizer=tf.keras.regularizers.l2(l=0.001))\n",
        "        \n",
        "        self.max_pool2d = tf.keras.layers.MaxPooling2D((2, 1), (1, 1), padding='same')\n",
        "        \n",
        "        self.max_norm = tf.keras.layers.BatchNormalization()\n",
        "        \n",
        "        self.conv2 = tf.keras.layers.Conv2D(64, (5,1),\n",
        "                                         padding='same',\n",
        "                                         activation=tf.nn.relu,\n",
        "                                         kernel_initializer=tf.keras.initializers.he_uniform(),\n",
        "                                         kernel_regularizer=tf.keras.regularizers.l2(l=0.001))\n",
        "        self.flatten = tf.keras.layers.Flatten()\n",
        "        self.fc1 = tf.keras.layers.Dense(750, activation=tf.nn.relu,\n",
        "                                      kernel_initializer=tf.keras.initializers.he_uniform(),\n",
        "                                      kernel_regularizer=tf.keras.regularizers.l2(l=0.001))\n",
        "        self.dropout = tf.keras.layers.Dropout(0.5)\n",
        "        self.fc2 = tf.keras.layers.Dense(10)\n",
        "        self.softmax = tf.keras.layers.Softmax()\n",
        "\n",
        "    \n",
        "\n",
        "    \n",
        "    @tf.function\n",
        "    def call(self, x):\n",
        "        x = self.conv1(x)\n",
        "        #x = self.max_pool2d()\n",
        "        #x = self.max_norm(x)\n",
        "        #x = self.max_pool2d(self.conv2(x))\n",
        "        #x = self.max_norm(x)\n",
        "        #x = self.flatten(x)\n",
        "        #x = self.dropout(self.fc1(x))\n",
        "        #x = self.fc2(x)\n",
        "        return self.softmax(x)"
      ],
      "execution_count": 0,
      "outputs": []
    },
    {
      "cell_type": "code",
      "metadata": {
        "id": "d2LQAb7h_25j",
        "colab_type": "code",
        "outputId": "327b109c-c80a-4f72-e2c3-0cde33f8f623",
        "colab": {
          "base_uri": "https://localhost:8080/",
          "height": 35
        }
      },
      "source": [
        "cnn = model_cnn.fit(train_dataset,verbose=1,  epochs=1, steps_per_epoch=10)"
      ],
      "execution_count": 0,
      "outputs": [
        {
          "output_type": "stream",
          "text": [
            "10/10 [==============================] - 3s 326ms/step - loss: 2.3027 - accuracy: 0.0930\n"
          ],
          "name": "stdout"
        }
      ]
    },
    {
      "cell_type": "markdown",
      "metadata": {
        "id": "2kV3FZ0B9BjL",
        "colab_type": "text"
      },
      "source": [
        "\n",
        "\n",
        " **   batch_size** \n",
        "    \n",
        "    determines the number of samples in each mini batch. Its maximum is the number of all samples, which makes gradient descent accurate, the loss will decrease towards the minimum if the learning rate is small enough, but iterations are slower. Its minimum is 1, resulting in stochastic gradient descent: Fast but the direction of the gradient step is based only on one example, the loss may jump around. batch_size allows to adjust between the two extremes: accurate gradient direction and fast iteration. Also, the maximum value for batch_size may be limited if your model + data set does not fit into the available (GPU) memory.\n",
        "   \n",
        "   \n",
        "   **steps_per_epoch **\n",
        "    \n",
        "    the number of batch iterations before a training epoch is considered finished. If you have a training set of fixed size you can ignore it but it may be useful if you have a huge data set or if you are generating random data augmentations on the fly, i.e. if your training set has a (generated) infinite size. If you have the time to go through your whole training data set I recommend to skip this parameter.\n",
        "    \n",
        "    \n",
        "   ** validation_steps**\n",
        "    \n",
        "    similar to steps_per_epoch but on the validation data set instead on the training data. If you have the time to go through your whole validation data set I recommend to skip this parameter.\n",
        "\n"
      ]
    },
    {
      "cell_type": "code",
      "metadata": {
        "id": "r2VG96cD-8Ue",
        "colab_type": "code",
        "outputId": "491f543b-b348-448c-ac1e-1b5797fcd404",
        "colab": {
          "base_uri": "https://localhost:8080/",
          "height": 1416
        }
      },
      "source": [
        "debug_weights(model_cnn)\n",
        "\n",
        "#weight_origin_0=model_cnn.layers[0]\n",
        "#print(weight_origin_0)\n",
        "\n",
        "#weight_origin_1=model_cnn.layers[1].get_weights()[0]\n",
        "#print(weight_origin_1)\n",
        "\n",
        "#biais_origin_2=model_cnn.layers[1].get_weights()[1]\n",
        "#print(weight_origin_2)"
      ],
      "execution_count": 0,
      "outputs": [
        {
          "output_type": "stream",
          "text": [
            "\n",
            " 0 input_7 []\n",
            "\n",
            " 1 conv2d_10 [array([[[[-0.07760686, -0.2579075 ,  0.38951865, -0.29346624,\n",
            "           0.28956285,  0.2670963 , -0.23091064, -0.14645249,\n",
            "           0.30718666,  0.01629734, -0.33836812,  0.05070893,\n",
            "           0.11448285, -0.36157635, -0.19301613,  0.32691735,\n",
            "          -0.41343436, -0.13496509,  0.34203017, -0.32457778,\n",
            "           0.09458826,  0.38618279,  0.0098882 ,  0.04052328,\n",
            "           0.15478635,  0.3153485 , -0.3506253 , -0.13773578,\n",
            "          -0.24979366, -0.38240984,  0.0315172 , -0.1454744 ]]]],\n",
            "      dtype=float32), array([ 0.        ,  0.        , -0.01543235,  0.        , -0.01282639,\n",
            "       -0.01187256,  0.        ,  0.        , -0.01474376, -0.00272755,\n",
            "        0.        , -0.00363598, -0.00542663,  0.        ,  0.        ,\n",
            "       -0.01316027,  0.        ,  0.        , -0.01422015,  0.        ,\n",
            "       -0.00576609, -0.01534725, -0.00092845, -0.00293234, -0.00660635,\n",
            "       -0.0134055 ,  0.        ,  0.        ,  0.        ,  0.        ,\n",
            "       -0.00311638,  0.        ], dtype=float32)]\n",
            "\n",
            " 2 max_pooling2d_8 []\n",
            "\n",
            " 3 dropout_4 []\n",
            "\n",
            " 4 flatten_4 []\n",
            "\n",
            " 5 dense_8 [array([[ 0.05519125, -0.05437458,  0.03952767, ..., -0.00109004,\n",
            "         0.03832194,  0.08395404],\n",
            "       [ 0.05993964, -0.07135794,  0.04715228, ...,  0.03180821,\n",
            "        -0.05864841,  0.03246978],\n",
            "       [ 0.07300023, -0.04300611,  0.04504714, ..., -0.11216072,\n",
            "        -0.08063985,  0.06614798],\n",
            "       ...,\n",
            "       [ 0.04197049, -0.06667254, -0.06432112, ...,  0.03018293,\n",
            "        -0.08422431,  0.01437722],\n",
            "       [ 0.00273941,  0.05640719, -0.00215197, ...,  0.04177314,\n",
            "         0.03766435, -0.08813196],\n",
            "       [ 0.0899893 , -0.02020133,  0.02642356, ..., -0.07036223,\n",
            "         0.05840407, -0.09471837]], dtype=float32), array([-0.00587727, -0.00386543, -0.00543317, -0.0032498 , -0.00321543,\n",
            "       -0.00642967, -0.00409078, -0.00224238, -0.00743071, -0.00664476,\n",
            "       -0.00844613, -0.00525538, -0.008542  , -0.00729891, -0.00140351,\n",
            "       -0.00813787, -0.00504077, -0.00554903, -0.00847824, -0.00701992,\n",
            "       -0.00383173, -0.00216505, -0.00734684, -0.00926339, -0.01005555,\n",
            "       -0.00508864, -0.0064022 , -0.01232554, -0.00356349, -0.0088677 ,\n",
            "       -0.00950351, -0.00222039, -0.0066728 , -0.00286744, -0.00715109,\n",
            "       -0.0145867 , -0.00724443, -0.00570066, -0.00229863, -0.00604503,\n",
            "       -0.00811397, -0.00565101, -0.00808042, -0.00465883, -0.01361746,\n",
            "       -0.00152747, -0.00823857, -0.00584009, -0.00924864, -0.00417   ,\n",
            "       -0.00296847, -0.00370691, -0.00912702, -0.0044775 , -0.01040008,\n",
            "       -0.00504879, -0.00698936, -0.0067757 , -0.00417394, -0.00883228,\n",
            "       -0.00417528, -0.00620164, -0.00311931, -0.00978591, -0.00499665,\n",
            "       -0.00172718, -0.00289519, -0.00486932, -0.00722925, -0.00392222,\n",
            "       -0.00832754, -0.00526654, -0.00649934, -0.0065351 , -0.004363  ,\n",
            "       -0.00509643, -0.0047662 , -0.01421324, -0.01032175, -0.00530994,\n",
            "       -0.00480942, -0.00680673, -0.0038114 , -0.00337764, -0.00440309,\n",
            "       -0.00404808, -0.00081056, -0.00264817, -0.00669967, -0.01226436,\n",
            "       -0.004219  , -0.00861638, -0.00219787, -0.00807893, -0.00795865,\n",
            "       -0.0060795 , -0.0039664 , -0.00425471, -0.00784659, -0.00578069,\n",
            "       -0.0032244 , -0.014113  , -0.00963549, -0.00341277, -0.00798589,\n",
            "       -0.00604166, -0.00462036, -0.00599402, -0.00379324, -0.00836338,\n",
            "       -0.00596237, -0.00317507, -0.00898021, -0.00381608, -0.00778459,\n",
            "       -0.00700256, -0.00317768, -0.00624616, -0.00748486, -0.01014854,\n",
            "       -0.00888806, -0.00705902, -0.00638214, -0.00267096, -0.00334309,\n",
            "       -0.00204094, -0.00751083, -0.01108198], dtype=float32)]\n",
            "\n",
            " 6 dense_9 [array([[-0.10146525, -0.02804425,  0.20165132, ...,  0.09474779,\n",
            "        -0.1883767 , -0.16007432],\n",
            "       [ 0.19009918, -0.04273944, -0.15067707, ..., -0.09818877,\n",
            "        -0.10567806,  0.17153497],\n",
            "       [ 0.15059802, -0.0030325 , -0.02473127, ..., -0.00462094,\n",
            "         0.06841954, -0.10439952],\n",
            "       ...,\n",
            "       [ 0.12752917, -0.17782792,  0.13879174, ...,  0.14625894,\n",
            "         0.10147998,  0.1987041 ],\n",
            "       [ 0.14912675,  0.11622881,  0.03534431, ...,  0.16739665,\n",
            "        -0.06360202, -0.01978015],\n",
            "       [ 0.16146556, -0.01833512,  0.10623975, ..., -0.0639042 ,\n",
            "        -0.03008587,  0.1102763 ]], dtype=float32), array([-0.02220432, -0.02180952, -0.00668923,  0.01713575,  0.00438328,\n",
            "        0.01019876, -0.00162096, -0.03316109,  0.04237986,  0.00132712],\n",
            "      dtype=float32)]\n",
            "\n",
            " 7 softmax_4 []\n"
          ],
          "name": "stdout"
        }
      ]
    },
    {
      "cell_type": "code",
      "metadata": {
        "id": "9fKcmE3WepR4",
        "colab_type": "code",
        "outputId": "93aba575-831c-4298-d7ef-c944d28ee518",
        "colab": {
          "base_uri": "https://localhost:8080/",
          "height": 380
        }
      },
      "source": [
        "# Fit the model \n",
        "if tf.test.is_gpu_available() > 0:\n",
        "    with tf.device(tf.test.gpu_device_name()):\n",
        "      \n",
        "      callbacks = [\n",
        "        # Write TensorBoard logs to `./logs` directory\n",
        "        tf.keras.callbacks.TensorBoard(log_dir='./log/{}'.format(dt.datetime.now().strftime(\"%Y-%m-%d-%H-%M-%S\")), write_images=True)\n",
        "      ]\n",
        "\n",
        "      #steps_per_epoch argument—this is the number of training steps the model runs \n",
        "      #before it moves to the next epoch. Since the Dataset yields batches of data, \n",
        "      #this snippet does not require a batch_size.\n",
        "      # steps_per_epoch give indirectly the batch size\n",
        "\n",
        "\n",
        "      \n",
        "      history = model_cnn.fit(train_dataset,verbose=1,  epochs=10, steps_per_epoch=100,\n",
        "                validation_data=valid_dataset,\n",
        "                validation_steps=50) #, callbacks=callbacks)\n",
        "\n",
        "weights = model_cnn.layers[2].get_weights()\n",
        "print(weights)"
      ],
      "execution_count": 0,
      "outputs": [
        {
          "output_type": "stream",
          "text": [
            "Epoch 1/10\n",
            "100/100 [==============================] - 1s 9ms/step - loss: 2.3028 - accuracy: 0.1045 - val_loss: 2.3028 - val_accuracy: 0.0982\n",
            "Epoch 2/10\n",
            "100/100 [==============================] - 1s 9ms/step - loss: 2.3026 - accuracy: 0.1018 - val_loss: 2.3027 - val_accuracy: 0.0982\n",
            "Epoch 3/10\n",
            "100/100 [==============================] - 1s 9ms/step - loss: 2.3024 - accuracy: 0.1048 - val_loss: 2.3029 - val_accuracy: 0.0982\n",
            "Epoch 4/10\n",
            "100/100 [==============================] - 1s 9ms/step - loss: 2.3025 - accuracy: 0.1023 - val_loss: 2.3031 - val_accuracy: 0.0982\n",
            "Epoch 5/10\n",
            "100/100 [==============================] - 1s 9ms/step - loss: 2.3024 - accuracy: 0.1067 - val_loss: 2.3030 - val_accuracy: 0.0982\n",
            "Epoch 6/10\n",
            "100/100 [==============================] - 1s 9ms/step - loss: 2.3025 - accuracy: 0.1019 - val_loss: 2.3031 - val_accuracy: 0.0982\n",
            "Epoch 7/10\n",
            "100/100 [==============================] - 1s 9ms/step - loss: 2.3028 - accuracy: 0.0979 - val_loss: 2.3029 - val_accuracy: 0.0982\n",
            "Epoch 8/10\n",
            "100/100 [==============================] - 1s 9ms/step - loss: 2.3024 - accuracy: 0.1071 - val_loss: 2.3030 - val_accuracy: 0.0982\n",
            "Epoch 9/10\n",
            "100/100 [==============================] - 1s 10ms/step - loss: 2.3026 - accuracy: 0.1037 - val_loss: 2.3030 - val_accuracy: 0.0982\n",
            "Epoch 10/10\n",
            "100/100 [==============================] - 1s 9ms/step - loss: 2.3023 - accuracy: 0.1088 - val_loss: 2.3030 - val_accuracy: 0.0982\n",
            "[]\n"
          ],
          "name": "stdout"
        }
      ]
    },
    {
      "cell_type": "code",
      "metadata": {
        "id": "rYCTNHxf6VBY",
        "colab_type": "code",
        "outputId": "ec6495b3-b48f-4a69-e741-c72d9aec35ca",
        "colab": {
          "base_uri": "https://localhost:8080/",
          "height": 55
        }
      },
      "source": [
        "history_dict = history.history\n",
        "history_dict.keys()\n",
        "\n",
        "print(history.history)"
      ],
      "execution_count": 0,
      "outputs": [
        {
          "output_type": "stream",
          "text": [
            "{'loss': [2.3027001938713667, 2.302716381549835, 2.302625699043274, 2.302599353790283, 2.3023777318000795], 'accuracy': [0.100541845, 0.1027, 0.1016, 0.1022, 0.1014], 'val_loss': [2.3026007223129272, 2.302179536819458, 2.302261276245117, 2.3025460195541383, 2.302763237953186], 'val_accuracy': [0.0984, 0.112, 0.1094, 0.1006, 0.1006]}\n"
          ],
          "name": "stdout"
        }
      ]
    },
    {
      "cell_type": "code",
      "metadata": {
        "id": "7Yter7tu6ow-",
        "colab_type": "code",
        "outputId": "313ad5a1-c1df-472d-ae8b-ed2f5ef1460b",
        "colab": {
          "base_uri": "https://localhost:8080/",
          "height": 387
        }
      },
      "source": [
        "history_dict = history.history\n",
        "\n",
        "acc = history_dict['accuracy']\n",
        "val_acc = history_dict['val_accuracy']\n",
        "loss = history_dict['loss']\n",
        "val_loss = history_dict['val_loss']\n",
        "\n",
        "epochs = range(1, len(acc) + 1)\n",
        "\n",
        "# \"bo\" is for \"blue dot\"\n",
        "plt.plot(epochs, loss, 'bo', label='Training loss')\n",
        "# b is for \"solid blue line\"\n",
        "plt.plot(epochs, val_loss, 'b', label='Validation loss')\n",
        "plt.title('Training and validation loss')\n",
        "plt.xlabel('Epochs')\n",
        "plt.ylabel('Loss')\n",
        "plt.legend()\n",
        "\n",
        "plt.show()"
      ],
      "execution_count": 0,
      "outputs": [
        {
          "output_type": "display_data",
          "data": {
            "image/png": "[encoded data removed]",
            "text/plain": [
              "<Figure size 576x396 with 1 Axes>"
            ]
          },
          "metadata": {
            "tags": []
          }
        }
      ]
    },
    {
      "cell_type": "code",
      "metadata": {
        "id": "1T-K-2LxBWHh",
        "colab_type": "code",
        "outputId": "33da46e1-1537-4026-a179-3cbab86fab7f",
        "colab": {
          "base_uri": "https://localhost:8080/",
          "height": 775
        }
      },
      "source": [
        "history_dict = history.history\n",
        "\n",
        "# list all data in history\n",
        "print(history.history.keys())\n",
        "# summarize history for accuracy\n",
        "plt.plot(history.history['accuracy'])\n",
        "plt.plot(history.history['val_accuracy'])\n",
        "plt.title('model accuracy')\n",
        "plt.ylabel('accuracy')\n",
        "plt.xlabel('epoch')\n",
        "plt.legend(['train', 'test'], loc='upper left')\n",
        "plt.show()\n",
        "# summarize history for loss\n",
        "plt.plot(history.history['loss'])\n",
        "plt.plot(history.history['val_loss'])\n",
        "plt.title('model loss')\n",
        "plt.ylabel('loss')\n",
        "plt.xlabel('epoch')\n",
        "plt.legend(['train', 'test'], loc='upper left')\n",
        "plt.show()"
      ],
      "execution_count": 0,
      "outputs": [
        {
          "output_type": "stream",
          "text": [
            "dict_keys(['loss', 'accuracy', 'val_loss', 'val_accuracy'])\n"
          ],
          "name": "stdout"
        },
        {
          "output_type": "display_data",
          "data": {
            "image/png": "[encoded data removed]",
            "text/plain": [
              "<Figure size 576x396 with 1 Axes>"
            ]
          },
          "metadata": {
            "tags": []
          }
        },
        {
          "output_type": "display_data",
          "data": {
            "image/png": "[encoded data removed]",
            "text/plain": [
              "<Figure size 576x396 with 1 Axes>"
            ]
          },
          "metadata": {
            "tags": []
          }
        }
      ]
    },
    {
      "cell_type": "code",
      "metadata": {
        "id": "HYoOPd6W5sFu",
        "colab_type": "code",
        "outputId": "21aadb42-883b-4528-e957-5a18afbef15b",
        "colab": {
          "base_uri": "https://localhost:8080/",
          "height": 52
        }
      },
      "source": [
        "loss, acc = model_cnn.evaluate(test_dataset)\n",
        "print(\"Trained model, accuracy: {:5.2f}%\".format(100*acc))"
      ],
      "execution_count": 0,
      "outputs": [
        {
          "output_type": "stream",
          "text": [
            "313/313 [==============================] - 1s 4ms/step - loss: 2.3027 - accuracy: 0.1006\n",
            "Trained model, accuracy: 10.06%\n"
          ],
          "name": "stdout"
        }
      ]
    },
    {
      "cell_type": "code",
      "metadata": {
        "id": "tfORVdmZ7p5V",
        "colab_type": "code",
        "outputId": "891dd29c-e26f-4de8-87ad-5130be74c962",
        "colab": {
          "base_uri": "https://localhost:8080/",
          "height": 35
        }
      },
      "source": [
        "#Confusion matric result\n",
        "\n",
        "from sklearn.metrics import classification_report, confusion_matrix\n",
        "\n",
        "Y_pred = model_cnn.predict(test_dataset, verbose=1)\n",
        "y_pred = np.argmax(Y_pred, axis=1)"
      ],
      "execution_count": 0,
      "outputs": [
        {
          "output_type": "stream",
          "text": [
            "313/313 [==============================] - 1s 2ms/step\n"
          ],
          "name": "stdout"
        }
      ]
    },
    {
      "cell_type": "code",
      "metadata": {
        "id": "3qsfavDt7vh3",
        "colab_type": "code",
        "outputId": "90edf78f-fb81-4c27-a5c0-067418eb1d2f",
        "colab": {
          "base_uri": "https://localhost:8080/",
          "height": 190
        }
      },
      "source": [
        "cm = confusion_matrix(y_test,y_pred)\n",
        "print(cm)"
      ],
      "execution_count": 0,
      "outputs": [
        {
          "output_type": "stream",
          "text": [
            "[[233   0   0   0   0   0   0   0 846   0]\n",
            " [198   0   0   0   0   0   0   0 750   0]\n",
            " [222   0   0   0   0   0   0   0 758   0]\n",
            " [210   0   0   0   0   0   0   0 758   0]\n",
            " [220   0   0   0   0   0   0   0 780   0]\n",
            " [221   0   0   0   0   0   0   0 798   0]\n",
            " [223   0   0   0   0   0   0   0 769   0]\n",
            " [207   0   0   0   0   0   0   0 805   0]\n",
            " [194   0   0   0   0   0   0   0 773   0]\n",
            " [228   0   0   0   0   0   0   0 807   0]]\n"
          ],
          "name": "stdout"
        }
      ]
    },
    {
      "cell_type": "code",
      "metadata": {
        "id": "xIXQZzqu7wGm",
        "colab_type": "code",
        "outputId": "23a2f7a2-c391-4424-d138-662efd19cdfa",
        "colab": {
          "base_uri": "https://localhost:8080/",
          "height": 433
        }
      },
      "source": [
        "# Visualizing of confusion matrix\n",
        "import seaborn as sn\n",
        "import pandas  as pd\n",
        " \n",
        "df_cm = pd.DataFrame(cm, range(10),range(10))\n",
        "\n",
        "plt.figure(figsize = (10,7))\n",
        "sn.set(font_scale=1.4)#for label size\n",
        "sn.heatmap(df_cm, annot=True,annot_kws={\"size\": 12})# font size\n",
        "plt.show()"
      ],
      "execution_count": 0,
      "outputs": [
        {
          "output_type": "display_data",
          "data": {
            "image/png": "[encoded data removed]",
            "text/plain": [
              "<Figure size 720x504 with 2 Axes>"
            ]
          },
          "metadata": {
            "tags": []
          }
        }
      ]
    },
    {
      "cell_type": "markdown",
      "metadata": {
        "id": "8lh2gv_-3zxa",
        "colab_type": "text"
      },
      "source": [
        "## Another CNN Model (bigger)"
      ]
    },
    {
      "cell_type": "code",
      "metadata": {
        "id": "R0MjFm4a7kay",
        "colab_type": "code",
        "colab": {}
      },
      "source": [
        "def create_cnn_model():\n",
        "\n",
        "    # Model as sequential\n",
        "  kernel1 = 32\n",
        "  kernel2 = 64\n",
        "  kernel3 = 128\n",
        "\n",
        "  kernel1_size = (3,1)\n",
        "  kernel2_size = (3,1)\n",
        "  kernel3_size = (3,1)\n",
        "\n",
        "  pool_size = (2,1)\n",
        "  stride_size = (1,1)\n",
        "   \n",
        "  if tf.test.is_gpu_available() > 0:\n",
        "    with tf.device('/gpu:0'):\n",
        "\n",
        "      #Create a tensor from a shape \n",
        "      inputs = tf.keras.layers.Input(shape=(16, 1, 1))\n",
        "\n",
        "      #Layer 1\n",
        "      x = tf.keras.layers.Conv2D(kernel1, kernel1_size,padding='same',\n",
        "                                 kernel_initializer=tf.keras.initializers.RandomUniform(minval=-0.55, maxval=0.55, seed=None),\n",
        "                                 kernel_regularizer=tf.keras.regularizers.l2(l=0.001),\n",
        "                                 activation=tf.nn.relu)(inputs)\n",
        "\n",
        "      x = tf.keras.layers.MaxPooling2D(pool_size, stride_size, padding='same')(x)\n",
        "      x = tf.keras.layers.BatchNormalization()(x)\n",
        "\n",
        "      #Layer 2\n",
        "      x = tf.keras.layers.Conv2D(kernel2, kernel2_size, activation='relu', padding='same')(x)\n",
        "      x = tf.keras.layers.MaxPooling2D(pool_size, stride_size, padding='same')(x)\n",
        "      x = tf.keras.layers.BatchNormalization()(x)\n",
        "\n",
        "      #Layer 3\n",
        "      x = tf.keras.layers.Conv2D(kernel3, kernel3_size, activation='relu' , padding='same')(x)\n",
        "      x = tf.keras.layers.MaxPooling2D(pool_size, stride_size, padding='same')(x)\n",
        "      x = tf.keras.layers.BatchNormalization()(x)\n",
        "\n",
        "      x = tf.keras.layers.Flatten()(x)\n",
        "\n",
        "      x = tf.keras.layers.Dense(750, activation=tf.nn.relu,\n",
        "                                kernel_initializer=tf.keras.initializers.he_uniform(),\n",
        "                                kernel_regularizer=tf.keras.regularizers.l2(l=0.001))(x)\n",
        "\n",
        "\n",
        "      x = tf.keras.layers.Dropout(0.5)(x)\n",
        "      x = tf.keras.layers.Dense(10)(x)\n",
        "      predictions = tf.keras.layers.Softmax()(x)\n",
        "\n",
        "      # Instantiate the model given inputs and outputs.\n",
        "      model = tf.keras.Model(inputs=inputs, outputs=predictions)\n",
        "\n",
        "      model.compile(optimizer=tf.keras.optimizers.Adam(),\n",
        "                    loss='categorical_crossentropy',\n",
        "                    #loss='sparse_categorical_crossentropy',\n",
        "                    metrics=['accuracy'])\n",
        "    \n",
        "  return model"
      ],
      "execution_count": 0,
      "outputs": []
    },
    {
      "cell_type": "code",
      "metadata": {
        "id": "bxIfNzAj3kLA",
        "colab_type": "code",
        "outputId": "6998254e-d460-4105-9c55-a64cdea985d4",
        "colab": {
          "base_uri": "https://localhost:8080/",
          "height": 967
        }
      },
      "source": [
        "#Fit model\n",
        "model_cnn = create_cnn_model()\n",
        "\n",
        "print(debug(model_cnn))\n",
        "\n",
        "print(model_cnn.summary())"
      ],
      "execution_count": 0,
      "outputs": [
        {
          "output_type": "stream",
          "text": [
            "0 input_6\n",
            "1 conv2d_7\n",
            "2 max_pooling2d_5\n",
            "3 batch_normalization_v2_3\n",
            "4 conv2d_8\n",
            "5 max_pooling2d_6\n",
            "6 batch_normalization_v2_4\n",
            "7 conv2d_9\n",
            "8 max_pooling2d_7\n",
            "9 batch_normalization_v2_5\n",
            "10 flatten_3\n",
            "11 dense_6\n",
            "12 dropout_3\n",
            "13 dense_7\n",
            "14 softmax_3\n",
            "None\n",
            "Model: \"model_3\"\n",
            "_________________________________________________________________\n",
            "Layer (type)                 Output Shape              Param #   \n",
            "=================================================================\n",
            "input_6 (InputLayer)         [(None, 16, 1, 1)]        0         \n",
            "_________________________________________________________________\n",
            "conv2d_7 (Conv2D)            (None, 16, 1, 32)         128       \n",
            "_________________________________________________________________\n",
            "max_pooling2d_5 (MaxPooling2 (None, 16, 1, 32)         0         \n",
            "_________________________________________________________________\n",
            "batch_normalization_v2_3 (Ba (None, 16, 1, 32)         128       \n",
            "_________________________________________________________________\n",
            "conv2d_8 (Conv2D)            (None, 16, 1, 64)         6208      \n",
            "_________________________________________________________________\n",
            "max_pooling2d_6 (MaxPooling2 (None, 16, 1, 64)         0         \n",
            "_________________________________________________________________\n",
            "batch_normalization_v2_4 (Ba (None, 16, 1, 64)         256       \n",
            "_________________________________________________________________\n",
            "conv2d_9 (Conv2D)            (None, 16, 1, 128)        24704     \n",
            "_________________________________________________________________\n",
            "max_pooling2d_7 (MaxPooling2 (None, 16, 1, 128)        0         \n",
            "_________________________________________________________________\n",
            "batch_normalization_v2_5 (Ba (None, 16, 1, 128)        512       \n",
            "_________________________________________________________________\n",
            "flatten_3 (Flatten)          (None, 2048)              0         \n",
            "_________________________________________________________________\n",
            "dense_6 (Dense)              (None, 750)               1536750   \n",
            "_________________________________________________________________\n",
            "dropout_3 (Dropout)          (None, 750)               0         \n",
            "_________________________________________________________________\n",
            "dense_7 (Dense)              (None, 10)                7510      \n",
            "_________________________________________________________________\n",
            "softmax_3 (Softmax)          (None, 10)                0         \n",
            "=================================================================\n",
            "Total params: 1,576,196\n",
            "Trainable params: 1,575,748\n",
            "Non-trainable params: 448\n",
            "_________________________________________________________________\n",
            "None\n"
          ],
          "name": "stdout"
        }
      ]
    },
    {
      "cell_type": "code",
      "metadata": {
        "id": "6az-HF353uVr",
        "colab_type": "code",
        "outputId": "9aa61432-8fbf-46ce-ec57-127cb29a2fa6",
        "colab": {
          "base_uri": "https://localhost:8080/",
          "height": 35
        }
      },
      "source": [
        "# Fit the model \n",
        "if tf.test.is_gpu_available() > 0:\n",
        "    with tf.device(tf.test.gpu_device_name()):\n",
        "      \n",
        "      callbacks = [\n",
        "        # Write TensorBoard logs to `./logs` directory\n",
        "        tf.keras.callbacks.TensorBoard(log_dir='./log/{}'.format(dt.datetime.now().strftime(\"%Y-%m-%d-%H-%M-%S\")), write_images=True)\n",
        "      ]\n",
        "\n",
        "      #steps_per_epoch argument—this is the number of training steps the model runs \n",
        "      #before it moves to the next epoch. Since the Dataset yields batches of data, \n",
        "      #this snippet does not require a batch_size.\n",
        "      # steps_per_epoch give indirectly the batch size\n",
        "\n",
        "      cnn = model_cnn.fit(train_dataset,verbose=1,  epochs=1, steps_per_epoch=10,\n",
        "                validation_data=valid_dataset,\n",
        "                validation_steps=50) #, callbacks=callbacks)\n",
        "\n"
      ],
      "execution_count": 0,
      "outputs": [
        {
          "output_type": "stream",
          "text": [
            "10/10 [==============================] - 3s 287ms/step - loss: 5.3797 - accuracy: 0.1020 - val_loss: 3.8149 - val_accuracy: 0.1015\n"
          ],
          "name": "stdout"
        }
      ]
    },
    {
      "cell_type": "code",
      "metadata": {
        "id": "SbzA3EsCeueU",
        "colab_type": "code",
        "colab": {}
      },
      "source": [
        "# 313 steps,because batch = 32  (10000 (size test train)/ 32) = 313\n",
        "loss, acc = model_cnn_api.evaluate(test_dataset)\n",
        "print(\"Trained model, accuracy: {:5.2f}%\".format(100*acc))"
      ],
      "execution_count": 0,
      "outputs": []
    }
  ]
}