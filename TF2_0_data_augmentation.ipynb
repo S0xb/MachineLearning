{
  "nbformat": 4,
  "nbformat_minor": 0,
  "metadata": {
    "colab": {
      "name": "TF2.0-data_augmentation.ipynb",
      "provenance": [],
      "collapsed_sections": [],
      "include_colab_link": true
    },
    "kernelspec": {
      "name": "python3",
      "display_name": "Python 3"
    }
  },
  "cells": [
    {
      "cell_type": "markdown",
      "metadata": {
        "id": "view-in-github",
        "colab_type": "text"
      },
      "source": [
        "<a href=\"https://colab.research.google.com/github/S0xb/MachineLearning/blob/master/TF2_0_data_augmentation.ipynb\" target=\"_parent\"><img src=\"https://colab.research.google.com/assets/colab-badge.svg\" alt=\"Open In Colab\"/></a>"
      ]
    },
    {
      "cell_type": "code",
      "metadata": {
        "id": "fN7jZKWOyrR5",
        "colab_type": "code",
        "colab": {}
      },
      "source": [
        ""
      ],
      "execution_count": 0,
      "outputs": []
    },
    {
      "cell_type": "markdown",
      "metadata": {
        "id": "t1Vew3vpzj3J",
        "colab_type": "text"
      },
      "source": [
        "## Data augmentation witrh TF2.0 (as keras)"
      ]
    },
    {
      "cell_type": "markdown",
      "metadata": {
        "id": "e1Pw_m88z4Bg",
        "colab_type": "text"
      },
      "source": [
        "Then creat the generator and input it to model.fit_generator, it will work.\n",
        "\n",
        "You can choose data randomly like this or use some recurrent methods."
      ]
    },
    {
      "cell_type": "code",
      "metadata": {
        "id": "jda7YMDQzqOS",
        "colab_type": "code",
        "colab": {}
      },
      "source": [
        "def generator(batch_size=4,path):\n",
        "imgs=glob(path+'*.jpg')\n",
        "while True:\n",
        "    batch=[]\n",
        "    for i in range(batch_size):\n",
        "        idx=np.random.randint(0,len(imgs))\n",
        "        img=cv.resize(cv.imread(imgs[idx]),(256,256))/255\n",
        "        batch.append(img)\n",
        "    batch=np.array(batch)\n",
        "    yield batch"
      ],
      "execution_count": 0,
      "outputs": []
    },
    {
      "cell_type": "markdown",
      "metadata": {
        "id": "0OemgpBbzWom",
        "colab_type": "text"
      },
      "source": [
        "https://www.tensorflow.org/beta/guide/keras/custom_callback\n",
        "\n",
        "Model methods that take callbacks\n",
        "Users can supply a list of callbacks to the following tf.keras.Model methods:\n",
        "\n",
        "fit(), fit_generator()\n",
        "\n",
        "Trains the model for a fixed number of epochs (iterations over a dataset, or data yielded batch-by-batch by a Python generator).\n",
        "\n",
        "evaluate(), evaluate_generator()\n",
        "\n",
        "Evaluates the model for given data or data generator. Outputs the loss and metric values from the evaluation.\n",
        "\n",
        "predict(), predict_generator()\n",
        "\n",
        "Generates output predictions for the input data or data generator."
      ]
    },
    {
      "cell_type": "markdown",
      "metadata": {
        "id": "KGwjr5TX0aM1",
        "colab_type": "text"
      },
      "source": [
        "Data augmentation with tf.image"
      ]
    },
    {
      "cell_type": "code",
      "metadata": {
        "id": "LNaWURZN0ZkG",
        "colab_type": "code",
        "colab": {}
      },
      "source": [
        "import tensorflow_datasets as tfds\n",
        "\n",
        "dataloader = tfds.load(\"cifar10\", as_supervised=True)\n",
        "train, test = dataloader[\"train\"], dataloader[\"test\"]\n",
        "\n",
        "\n",
        "train = train.map(\n",
        "    lambda image, label: (tf.image.convert_image_dtype(image, tf.float32), label)\n",
        ").cache().map(\n",
        "    lambda image, label: (tf.image.random_flip_left_right(image), label)\n",
        ").map(\n",
        "    lambda image, label: (tf.image.random_contrast(image, lower=0.0, upper=1.0), label)\n",
        ").shuffle(\n",
        "    100\n",
        ").batch(\n",
        "    64\n",
        ").repeat()"
      ],
      "execution_count": 0,
      "outputs": []
    },
    {
      "cell_type": "markdown",
      "metadata": {
        "id": "rtBARHSP9ZBl",
        "colab_type": "text"
      },
      "source": [
        "### Dataset\n",
        "\n",
        " For this example you will use the TensorFlow flowers dataset:\n",
        " "
      ]
    },
    {
      "cell_type": "code",
      "metadata": {
        "id": "OZdHxG8B9RYn",
        "colab_type": "code",
        "colab": {}
      },
      "source": [
        "data_root = tf.keras.utils.get_file(\n",
        "  'flower_photos','https://storage.googleapis.com/download.tensorflow.org/example_images/flower_photos.tgz',\n",
        "   untar=True)"
      ],
      "execution_count": 0,
      "outputs": []
    },
    {
      "cell_type": "markdown",
      "metadata": {
        "id": "pc5Azhbo9isu",
        "colab_type": "text"
      },
      "source": [
        "The simplest way to load this data into our model is using `tf.keras.preprocessing.image.ImageDataGenerator`,\n",
        "\n",
        "All of TensorFlow Hub's image modules expect float inputs in the `[0, 1]` range. Use the `ImageDataGenerator`'s `rescale` parameter to achieve this.\n",
        "\n",
        "The image size will be handled later."
      ]
    },
    {
      "cell_type": "code",
      "metadata": {
        "id": "xDhVlMgj9kHj",
        "colab_type": "code",
        "colab": {}
      },
      "source": [
        "image_generator = tf.keras.preprocessing.image.ImageDataGenerator(rescale=1/255)\n",
        "image_data = image_generator.flow_from_directory(str(data_root), target_size=IMAGE_SHAPE)"
      ],
      "execution_count": 0,
      "outputs": []
    },
    {
      "cell_type": "markdown",
      "metadata": {
        "id": "W_lqXnMJ9nrP",
        "colab_type": "text"
      },
      "source": [
        "The resulting object is an iterator that returns `image_batch, label_batch` pairs."
      ]
    },
    {
      "cell_type": "code",
      "metadata": {
        "id": "waFX4tmV-HdI",
        "colab_type": "code",
        "colab": {}
      },
      "source": [
        "for image_batch, label_batch in image_data:\n",
        "  print(\"Image batch shape: \", image_batch.shape)\n",
        "  print(\"Label batch shape: \", label_batch.shape)\n",
        "  break"
      ],
      "execution_count": 0,
      "outputs": []
    },
    {
      "cell_type": "markdown",
      "metadata": {
        "id": "X8oJ9YnP-Ibl",
        "colab_type": "text"
      },
      "source": [
        ""
      ]
    }
  ]
}