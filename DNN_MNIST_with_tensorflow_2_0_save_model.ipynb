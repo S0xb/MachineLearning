{
  "nbformat": 4,
  "nbformat_minor": 0,
  "metadata": {
    "colab": {
      "name": "DNN_MNIST_with_tensorflow_2.0_save_model.ipynb",
      "version": "0.3.2",
      "provenance": [],
      "collapsed_sections": [],
      "include_colab_link": true
    },
    "kernelspec": {
      "name": "python3",
      "display_name": "Python 3"
    },
    "accelerator": "GPU"
  },
  "cells": [
    {
      "cell_type": "markdown",
      "metadata": {
        "id": "view-in-github",
        "colab_type": "text"
      },
      "source": [
        "<a href=\"https://colab.research.google.com/github/S0xb/MachineLearning/blob/master/DNN_MNIST_with_tensorflow_2_0_save_model.ipynb\" target=\"_parent\"><img src=\"https://colab.research.google.com/assets/colab-badge.svg\" alt=\"Open In Colab\"/></a>"
      ]
    },
    {
      "cell_type": "code",
      "metadata": {
        "id": "Ba18E41gMtsq",
        "colab_type": "code",
        "colab": {}
      },
      "source": [
        "import tensorflow as tf\n",
        "import pandas as pd\n",
        "from tensorflow.python.client import device_lib\n",
        "import numpy as np\n",
        "import timeit\n",
        "import sys\n",
        "import matplotlib as mpl\n",
        "import matplotlib.pyplot as plt\n",
        "import sklearn\n",
        "import datetime as dt\n",
        "\n",
        "from tensorflow.keras import layers\n",
        "\n",
        "import cv2\n",
        "import numpy as np\n",
        "from matplotlib import pyplot as plt\n",
        "\n",
        "from tensorflow.python.framework import ops\n",
        "ops.reset_default_graph()"
      ],
      "execution_count": 0,
      "outputs": []
    },
    {
      "cell_type": "code",
      "metadata": {
        "id": "0EexZf7aM22o",
        "colab_type": "code",
        "outputId": "33763fae-0deb-4871-ecd7-231b17fd4e64",
        "colab": {
          "base_uri": "https://localhost:8080/",
          "height": 625
        }
      },
      "source": [
        "!pip install tf-nightly-gpu-2.0-preview"
      ],
      "execution_count": 0,
      "outputs": [
        {
          "output_type": "stream",
          "text": [
            "Collecting tf-nightly-gpu-2.0-preview\n",
            "\u001b[?25l  Downloading https://files.pythonhosted.org/packages/d9/10/74c4acb6291bfa81bfcc882d39ab27e7166b6573ebc795b927af4fdbca3e/tf_nightly_gpu_2.0_preview-2.0.0.dev20190306-cp36-cp36m-manylinux1_x86_64.whl (332.1MB)\n",
            "\u001b[K    100% |████████████████████████████████| 332.2MB 70kB/s \n",
            "\u001b[?25hCollecting tensorflow-estimator-2.0-preview (from tf-nightly-gpu-2.0-preview)\n",
            "\u001b[?25l  Downloading https://files.pythonhosted.org/packages/32/67/3800422f02b33c5556dc9ddc3699a8249db8374ea63480458b0c5214eda0/tensorflow_estimator_2.0_preview-1.14.0.dev2019030700-py2.py3-none-any.whl (351kB)\n",
            "\u001b[K    100% |████████████████████████████████| 358kB 12.5MB/s \n",
            "\u001b[?25hCollecting google-pasta>=0.1.2 (from tf-nightly-gpu-2.0-preview)\n",
            "\u001b[?25l  Downloading https://files.pythonhosted.org/packages/8c/96/adbd4eafe72ce9b5ca6f168fbf109386e1b601f7c59926a11e9d7b7a5b44/google_pasta-0.1.4-py3-none-any.whl (51kB)\n",
            "\u001b[K    100% |████████████████████████████████| 61kB 24.7MB/s \n",
            "\u001b[?25hRequirement already satisfied: astor>=0.6.0 in /usr/local/lib/python3.6/dist-packages (from tf-nightly-gpu-2.0-preview) (0.7.1)\n",
            "Requirement already satisfied: termcolor>=1.1.0 in /usr/local/lib/python3.6/dist-packages (from tf-nightly-gpu-2.0-preview) (1.1.0)\n",
            "Requirement already satisfied: absl-py>=0.7.0 in /usr/local/lib/python3.6/dist-packages (from tf-nightly-gpu-2.0-preview) (0.7.0)\n",
            "Requirement already satisfied: wheel>=0.26 in /usr/local/lib/python3.6/dist-packages (from tf-nightly-gpu-2.0-preview) (0.33.1)\n",
            "Requirement already satisfied: gast>=0.2.0 in /usr/local/lib/python3.6/dist-packages (from tf-nightly-gpu-2.0-preview) (0.2.2)\n",
            "Requirement already satisfied: keras-preprocessing>=1.0.5 in /usr/local/lib/python3.6/dist-packages (from tf-nightly-gpu-2.0-preview) (1.0.9)\n",
            "Requirement already satisfied: numpy<2.0,>=1.14.5 in /usr/local/lib/python3.6/dist-packages (from tf-nightly-gpu-2.0-preview) (1.14.6)\n",
            "Requirement already satisfied: keras-applications>=1.0.6 in /usr/local/lib/python3.6/dist-packages (from tf-nightly-gpu-2.0-preview) (1.0.7)\n",
            "Requirement already satisfied: grpcio>=1.8.6 in /usr/local/lib/python3.6/dist-packages (from tf-nightly-gpu-2.0-preview) (1.15.0)\n",
            "Collecting tb-nightly<1.15.0a0,>=1.14.0a0 (from tf-nightly-gpu-2.0-preview)\n",
            "\u001b[?25l  Downloading https://files.pythonhosted.org/packages/e5/5e/79a66b54ddec968c9acd648a63213b236a7bb9348979944c234c8959da4d/tb_nightly-1.14.0a20190306-py3-none-any.whl (3.0MB)\n",
            "\u001b[K    100% |████████████████████████████████| 3.0MB 8.9MB/s \n",
            "\u001b[?25hRequirement already satisfied: protobuf>=3.6.1 in /usr/local/lib/python3.6/dist-packages (from tf-nightly-gpu-2.0-preview) (3.6.1)\n",
            "Requirement already satisfied: six>=1.10.0 in /usr/local/lib/python3.6/dist-packages (from tf-nightly-gpu-2.0-preview) (1.11.0)\n",
            "Requirement already satisfied: h5py in /usr/local/lib/python3.6/dist-packages (from keras-applications>=1.0.6->tf-nightly-gpu-2.0-preview) (2.8.0)\n",
            "Requirement already satisfied: werkzeug>=0.11.15 in /usr/local/lib/python3.6/dist-packages (from tb-nightly<1.15.0a0,>=1.14.0a0->tf-nightly-gpu-2.0-preview) (0.14.1)\n",
            "Requirement already satisfied: markdown>=2.6.8 in /usr/local/lib/python3.6/dist-packages (from tb-nightly<1.15.0a0,>=1.14.0a0->tf-nightly-gpu-2.0-preview) (3.0.1)\n",
            "Requirement already satisfied: setuptools in /usr/local/lib/python3.6/dist-packages (from protobuf>=3.6.1->tf-nightly-gpu-2.0-preview) (40.8.0)\n",
            "Installing collected packages: tensorflow-estimator-2.0-preview, google-pasta, tb-nightly, tf-nightly-gpu-2.0-preview\n",
            "Successfully installed google-pasta-0.1.4 tb-nightly-1.14.0a20190306 tensorflow-estimator-2.0-preview-1.14.0.dev2019030700 tf-nightly-gpu-2.0-preview-2.0.0.dev20190306\n"
          ],
          "name": "stdout"
        },
        {
          "output_type": "display_data",
          "data": {
            "application/vnd.colab-display-data+json": {
              "pip_warning": {
                "packages": [
                  "tensorflow",
                  "tensorflow_estimator"
                ]
              }
            }
          },
          "metadata": {
            "tags": []
          }
        }
      ]
    },
    {
      "cell_type": "code",
      "metadata": {
        "id": "qOHw-eyoM4v9",
        "colab_type": "code",
        "outputId": "0d88eb77-03cb-4165-d897-7375547d8adf",
        "colab": {
          "base_uri": "https://localhost:8080/",
          "height": 138
        }
      },
      "source": [
        "print(\"python\", sys.version)\n",
        "for module in mpl, np, pd, sklearn, tf:\n",
        "    print(module.__name__, module.__version__)"
      ],
      "execution_count": 0,
      "outputs": [
        {
          "output_type": "stream",
          "text": [
            "python 3.6.7 (default, Oct 22 2018, 11:32:17) \n",
            "[GCC 8.2.0]\n",
            "matplotlib 3.0.3\n",
            "numpy 1.14.6\n",
            "pandas 0.22.0\n",
            "sklearn 0.20.3\n",
            "tensorflow 2.0.0-dev20190306\n"
          ],
          "name": "stdout"
        }
      ]
    },
    {
      "cell_type": "code",
      "metadata": {
        "id": "RBpLQotQPzPw",
        "colab_type": "code",
        "outputId": "8a3ba131-8f02-4da5-8678-aaee53509a5b",
        "colab": {
          "base_uri": "https://localhost:8080/",
          "height": 35
        }
      },
      "source": [
        "device_name = tf.test.gpu_device_name()\n",
        "if device_name != '/device:GPU:0':\n",
        "  raise SystemError('GPU device not found')\n",
        "print('Device detected {}'.format(device_name))"
      ],
      "execution_count": 0,
      "outputs": [
        {
          "output_type": "stream",
          "text": [
            "Device detected /device:GPU:0\n"
          ],
          "name": "stdout"
        }
      ]
    },
    {
      "cell_type": "code",
      "metadata": {
        "id": "yvALWpQjM6tw",
        "colab_type": "code",
        "outputId": "30919fc2-192b-4254-b25b-3ebc72de90a9",
        "colab": {
          "base_uri": "https://localhost:8080/",
          "height": 69
        }
      },
      "source": [
        "mnist = tf.keras.datasets.mnist\n",
        "\n",
        "(x_train, y_train),(x_test, y_test) = mnist.load_data()\n",
        "x_train, x_test = x_train / 255.0, x_test / 255.0\n",
        "\n",
        "print(x_train.shape)"
      ],
      "execution_count": 0,
      "outputs": [
        {
          "output_type": "stream",
          "text": [
            "Downloading data from https://storage.googleapis.com/tensorflow/tf-keras-datasets/mnist.npz\n",
            "11493376/11490434 [==============================] - 0s 0us/step\n",
            "(60000, 28, 28)\n"
          ],
          "name": "stdout"
        }
      ]
    },
    {
      "cell_type": "code",
      "metadata": {
        "id": "BvnBlblqNDic",
        "colab_type": "code",
        "colab": {}
      },
      "source": [
        "# Returns a short sequential model\n",
        "def create_model_sequential_v1():\n",
        "  \n",
        "  if tf.test.is_gpu_available() > 0:\n",
        "    with tf.device('/gpu:0'):\n",
        "      \n",
        "      model = tf.keras.models.Sequential([\n",
        "        tf.keras.layers.Flatten(input_shape=(28, 28)),\n",
        "        tf.keras.layers.Dense(512, activation=tf.nn.relu),\n",
        "        tf.keras.layers.Dropout(0.2),\n",
        "        tf.keras.layers.Dense(10, activation=tf.nn.softmax)\n",
        "      ])\n",
        "\n",
        "      model.compile(optimizer=tf.keras.optimizers.Adam(),\n",
        "                  loss=tf.keras.losses.sparse_categorical_crossentropy,\n",
        "                  metrics=['accuracy'])\n",
        "\n",
        "  return model"
      ],
      "execution_count": 0,
      "outputs": []
    },
    {
      "cell_type": "code",
      "metadata": {
        "id": "OmUeDzU2Nix3",
        "colab_type": "code",
        "colab": {}
      },
      "source": [
        "# Returns a short sequential model\n",
        "def create_model_sequential_v2():\n",
        "\n",
        "  if tf.test.is_gpu_available() > 0:\n",
        "    with tf.device('/gpu:0'):\n",
        "      model = tf.keras.Sequential()\n",
        "      model.add(tf.keras.layers.Flatten(input_shape=(28, 28)))\n",
        "      model.add(tf.keras.layers.Dense(64, activation='relu'))\n",
        "      model.add(tf.keras.layers.Dense(64, activation='relu'))\n",
        "      model.add(tf.keras.layers.Dense(10, activation='softmax'))\n",
        "\n",
        "      model.compile(optimizer='adam',\n",
        "                    loss='sparse_categorical_crossentropy',\n",
        "                    metrics=['accuracy'])\n",
        "  return model"
      ],
      "execution_count": 0,
      "outputs": []
    },
    {
      "cell_type": "code",
      "metadata": {
        "id": "SlS0dFoJQY74",
        "colab_type": "code",
        "colab": {}
      },
      "source": [
        "# Returns a short sequential model\n",
        "def create_model_functional_api():\n",
        "  \n",
        "  if tf.test.is_gpu_available() > 0:\n",
        "    with tf.device('/gpu:0'):\n",
        "      \n",
        "      inputs = tf.keras.Input(shape=(28,28))\n",
        "      x = tf.keras.layers.Flatten()(inputs)\n",
        "      # A layer instance is callable on a tensor, and returns a tensor.\n",
        "      x = tf.keras.layers.Dense(64, activation='relu',\n",
        "                                kernel_initializer=tf.keras.initializers.VarianceScaling)(x)\n",
        "      x = tf.keras.layers.Dense(64, activation='relu')(x)\n",
        "      predictions = tf.keras.layers.Dense(10, activation='softmax')(x)\n",
        "\n",
        "      # Instantiate the model given inputs and outputs.\n",
        "      model = tf.keras.Model(inputs=inputs, outputs=predictions)\n",
        "\n",
        "      model.compile(optimizer='adam',\n",
        "                    loss='sparse_categorical_crossentropy',\n",
        "                    metrics=['accuracy'])\n",
        "  return model"
      ],
      "execution_count": 0,
      "outputs": []
    },
    {
      "cell_type": "code",
      "metadata": {
        "id": "yWkqqGlkNRz2",
        "colab_type": "code",
        "outputId": "2cb651ad-e16a-406d-9242-ace564177e53",
        "colab": {
          "base_uri": "https://localhost:8080/",
          "height": 86
        }
      },
      "source": [
        "model = create_model_sequential_v1()\n",
        "print(model)\n",
        "model.fit(x_train, y_train, epochs=1)\n",
        "model.evaluate(x_test, y_test)"
      ],
      "execution_count": 0,
      "outputs": [
        {
          "output_type": "stream",
          "text": [
            "<tensorflow.python.keras.engine.sequential.Sequential object at 0x7f5ef1f8f898>\n",
            "60000/60000 [==============================] - 8s 140us/sample - loss: 0.2225 - accuracy: 0.9334\n",
            "10000/10000 [==============================] - 1s 88us/sample - loss: 0.1187 - accuracy: 0.9647\n"
          ],
          "name": "stdout"
        },
        {
          "output_type": "execute_result",
          "data": {
            "text/plain": [
              "[0.11868066541552544, 0.9647]"
            ]
          },
          "metadata": {
            "tags": []
          },
          "execution_count": 9
        }
      ]
    },
    {
      "cell_type": "code",
      "metadata": {
        "id": "OIfbFeclRAwq",
        "colab_type": "code",
        "outputId": "442ca8bf-a3cf-4d34-c11e-b95d6f319050",
        "colab": {
          "base_uri": "https://localhost:8080/",
          "height": 86
        }
      },
      "source": [
        "model = create_model_sequential_v2()\n",
        "print(model)\n",
        "model.fit(x_train, y_train, epochs=1)\n",
        "model.evaluate(x_test, y_test)"
      ],
      "execution_count": 0,
      "outputs": [
        {
          "output_type": "stream",
          "text": [
            "<tensorflow.python.keras.engine.sequential.Sequential object at 0x7f5e74946780>\n",
            "60000/60000 [==============================] - 8s 137us/sample - loss: 0.2724 - accuracy: 0.9212\n",
            "10000/10000 [==============================] - 1s 92us/sample - loss: 0.1527 - accuracy: 0.9530\n"
          ],
          "name": "stdout"
        },
        {
          "output_type": "execute_result",
          "data": {
            "text/plain": [
              "[0.15273208085894585, 0.953]"
            ]
          },
          "metadata": {
            "tags": []
          },
          "execution_count": 19
        }
      ]
    },
    {
      "cell_type": "code",
      "metadata": {
        "id": "x4yYuS9PQ4OW",
        "colab_type": "code",
        "outputId": "cbea2403-f4d1-4cbb-b9b7-3c1a9231f6e8",
        "colab": {
          "base_uri": "https://localhost:8080/",
          "height": 86
        }
      },
      "source": [
        "model = create_model_functional_api()\n",
        "print(model)\n",
        "model.fit(x_train, y_train, epochs=1)\n",
        "model.evaluate(x_test, y_test)"
      ],
      "execution_count": 0,
      "outputs": [
        {
          "output_type": "stream",
          "text": [
            "<tensorflow.python.keras.engine.training.Model object at 0x7f0f8e5bbd68>\n",
            "60000/60000 [==============================] - 8s 127us/sample - loss: 0.2818 - accuracy: 0.9185\n",
            "10000/10000 [==============================] - 1s 87us/sample - loss: 0.1402 - accuracy: 0.9567\n"
          ],
          "name": "stdout"
        },
        {
          "output_type": "execute_result",
          "data": {
            "text/plain": [
              "[0.14024257123693823, 0.9567]"
            ]
          },
          "metadata": {
            "tags": []
          },
          "execution_count": 9
        }
      ]
    },
    {
      "cell_type": "code",
      "metadata": {
        "id": "63cC2UTRONUA",
        "colab_type": "code",
        "colab": {}
      },
      "source": [
        "model.save('weights.h5')"
      ],
      "execution_count": 0,
      "outputs": []
    },
    {
      "cell_type": "code",
      "metadata": {
        "id": "_P6pyUG1OQWi",
        "colab_type": "code",
        "colab": {}
      },
      "source": [
        "#Del the model\n",
        "del model"
      ],
      "execution_count": 0,
      "outputs": []
    },
    {
      "cell_type": "code",
      "metadata": {
        "id": "L1YdeJuROTPW",
        "colab_type": "code",
        "outputId": "d78cd697-acc8-4573-e254-9780afde3e9a",
        "colab": {
          "base_uri": "https://localhost:8080/",
          "height": 52
        }
      },
      "source": [
        "model = tf.keras.models.load_model('weights.h5')\n"
      ],
      "execution_count": 0,
      "outputs": [
        {
          "output_type": "stream",
          "text": [
            "10000/10000 [==============================] - 1s 89us/sample - loss: 0.1187 - accuracy: 0.9647\n"
          ],
          "name": "stdout"
        },
        {
          "output_type": "execute_result",
          "data": {
            "text/plain": [
              "[0.11868066541552544, 0.9647]"
            ]
          },
          "metadata": {
            "tags": []
          },
          "execution_count": 12
        }
      ]
    },
    {
      "cell_type": "code",
      "metadata": {
        "id": "y0mQnAU1m9U4",
        "colab_type": "code",
        "outputId": "b71d8067-b88d-45c0-b1c4-2d164a0a07e9",
        "colab": {
          "base_uri": "https://localhost:8080/",
          "height": 52
        }
      },
      "source": [
        "model.evaluate(x_test, y_test)"
      ],
      "execution_count": 0,
      "outputs": [
        {
          "output_type": "stream",
          "text": [
            "10000/10000 [==============================] - 1s 76us/sample - loss: 0.1389 - accuracy: 0.9588\n"
          ],
          "name": "stdout"
        },
        {
          "output_type": "execute_result",
          "data": {
            "text/plain": [
              "[0.13893870964460076, 0.9588]"
            ]
          },
          "metadata": {
            "tags": []
          },
          "execution_count": 37
        }
      ]
    },
    {
      "cell_type": "code",
      "metadata": {
        "id": "N8sIYPQAnAsB",
        "colab_type": "code",
        "outputId": "52c6fb80-1412-4695-d671-c60acbf06102",
        "colab": {
          "base_uri": "https://localhost:8080/",
          "height": 347
        }
      },
      "source": [
        "#Read image from local storage\n",
        "\n",
        "newX = 28\n",
        "newY = 28\n",
        "\n",
        "img = cv2.imread('test_2.jpeg')\n",
        "#img_cvt = cv2.cvtColor(img, cv2.COLOR_BGR2RGB)\n",
        "img_cvt = cv2.cvtColor(img, cv2.COLOR_BGR2GRAY)\n",
        "image = cv2.resize(img_cvt,(int(newX),int(newY)))\n",
        "\n",
        "\n",
        "image_pred = np.array(image)\n",
        "\n",
        "image_pred = image_pred / 255.0 \n",
        "#print(image)\n",
        "\n",
        "#print(image_pred)\n",
        "\n",
        "plt.imshow(image_pred,cmap='gray')\n",
        "plt.axis(\"off\")\n",
        "plt.show()"
      ],
      "execution_count": 0,
      "outputs": [
        {
          "output_type": "display_data",
          "data": {
            "image/png": "[encoded data removed]",
            "text/plain": [
              "<Figure size 576x396 with 1 Axes>"
            ]
          },
          "metadata": {
            "tags": []
          }
        }
      ]
    },
    {
      "cell_type": "code",
      "metadata": {
        "id": "ykvIRwvv3PKi",
        "colab_type": "code",
        "outputId": "0cb190e9-0595-4f56-a829-e12054a19731",
        "colab": {
          "base_uri": "https://localhost:8080/",
          "height": 382
        }
      },
      "source": [
        "image = x_test[0]\n",
        "#print(image)\n",
        "plt.imshow(image,cmap='gray')\n",
        "plt.axis(\"off\")\n",
        "plt.show()\n",
        "print(y_test[0])\n",
        "print(x_test[0].shape)"
      ],
      "execution_count": 0,
      "outputs": [
        {
          "output_type": "display_data",
          "data": {
            "image/png": "[encoded data removed]",
            "text/plain": [
              "<Figure size 576x396 with 1 Axes>"
            ]
          },
          "metadata": {
            "tags": []
          }
        },
        {
          "output_type": "stream",
          "text": [
            "7\n",
            "(28, 28)\n"
          ],
          "name": "stdout"
        }
      ]
    },
    {
      "cell_type": "code",
      "metadata": {
        "id": "oIhY-LXc2g6c",
        "colab_type": "code",
        "outputId": "d3908ed9-ecdc-449a-e2a4-8e135d634800",
        "colab": {
          "base_uri": "https://localhost:8080/",
          "height": 69
        }
      },
      "source": [
        "model = tf.keras.models.load_model('weights.h5')\n",
        "\n",
        "pred = model.predict(image_pred.reshape(1,28,28))\n",
        "print(pred*100)\n",
        "y_pred = np.argmax(pred)\n",
        "\n",
        "print(\"Digit from model is: \",y_pred)"
      ],
      "execution_count": 0,
      "outputs": [
        {
          "output_type": "stream",
          "text": [
            "[[ 1.0936368 19.494368  15.383927  16.438597   1.6920401  3.2336824\n",
            "   1.3838794 27.355364   9.523728   4.400775 ]]\n",
            "Digit from model is:  7\n"
          ],
          "name": "stdout"
        }
      ]
    }
  ]
}